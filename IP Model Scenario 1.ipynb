{
 "cells": [
  {
   "cell_type": "markdown",
   "metadata": {},
   "source": [
    "# IMSE 660 Project IP Model - Nurse FTE Staffing Scenario 1\n",
    "Brandon Thimmesch"
   ]
  },
  {
   "cell_type": "markdown",
   "metadata": {},
   "source": [
    "5/8/2022"
   ]
  },
  {
   "cell_type": "markdown",
   "metadata": {},
   "source": [
    "## Importing Libraries"
   ]
  },
  {
   "cell_type": "code",
   "execution_count": 1,
   "metadata": {},
   "outputs": [],
   "source": [
    "import sys\n",
    "import docplex.mp as mp\n",
    "from docplex.mp.model import Model\n",
    "import pandas as pd\n",
    "import numpy as np"
   ]
  },
  {
   "cell_type": "markdown",
   "metadata": {},
   "source": [
    "## Provided Information"
   ]
  },
  {
   "cell_type": "code",
   "execution_count": 2,
   "metadata": {},
   "outputs": [],
   "source": [
    "Facility = ('Westside','Eastview','North Place','South Ridge')\n",
    "Specialty = ('Cardiac', 'Orthopedic', 'General', 'Pediatric')\n",
    "\n",
    "Month = ('January','February','March','April','May','June','July','August','September','October','November','December')\n",
    "\n",
    "FS = [(i,j) for i in Facility for j in Specialty]\n",
    "FSM = [(i,j,k) for i in Facility for j in Specialty for k in Month]\n",
    "\n",
    "NurseDemand = {'Cardiac':{'January':50 ,'February':58 ,'March':40 ,'April':42 ,'May':30 ,'June':37 ,\n",
    "                           'July':45 ,'August':46 ,'September':35 ,'October':36 ,'November':45 ,'December':44},\n",
    "      'Orthopedic':{'January':63 ,'February':62 ,'March':55 ,'April':50 ,'May':48 ,'June':55 ,'July':60 ,\n",
    "                  'August':65 ,'September':75 ,'October':80 ,'November':63 ,'December':65},\n",
    "      'General':{'January':135 ,'February':155 ,'March':125 ,'April':120 ,'May':115 ,'June':120 ,\n",
    "                     'July':100 ,'August':80 ,'September':95 ,'October':109 ,'November':116 ,'December':120},\n",
    "      'Pediatric':{'January':70 ,'February':85 ,'March':75 ,'April':80 ,'May':60 ,'June':67 ,'July':78 ,\n",
    "                     'August':68 ,'September':64 ,'October':70 ,'November':60 ,'December':45}}\n",
    "\n",
    "NursePay = {'Westside':{'Cardiac':4550, 'Orthopedic':4450, 'General':4500, 'Pediatric':4650},\n",
    "      'Eastview':{'Cardiac':4150, 'Orthopedic':4100, 'General':4450, 'Pediatric':4200},\n",
    "      'North Place':{'Cardiac':3950, 'Orthopedic':3650, 'General':4100, 'Pediatric':3700},\n",
    "      'South Ridge':{'Cardiac':4350, 'Orthopedic':4050, 'General':4050, 'Pediatric':4200}};\n",
    "\n",
    "FacilityCapability = {'Westside':{'Cardiac':32000, 'Orthopedic':41000, 'General':35000, 'Pediatric':39000},\n",
    "      'Eastview':{'Cardiac':29000, 'Orthopedic':32000, 'General':30000, 'Pediatric':26000},\n",
    "      'North Place':{'Cardiac':26000, 'Orthopedic':28000, 'General':25000, 'Pediatric':27000},\n",
    "      'South Ridge':{'Cardiac':32000, 'Orthopedic':34000, 'General':33000, 'Pediatric':31000}};"
   ]
  },
  {
   "cell_type": "markdown",
   "metadata": {},
   "source": [
    "## IP Model Formulation: Scenario 1"
   ]
  },
  {
   "cell_type": "code",
   "execution_count": 3,
   "metadata": {
    "scrolled": true,
    "slideshow": {
     "slide_type": "slide"
    }
   },
   "outputs": [],
   "source": [
    "class IPproblem:\n",
    "    \n",
    "        def __init__(self):\n",
    "            self.m = Model(name = \"Staffing Reccomendation: Scenario 1\")\n",
    "        \n",
    "        def createVariables(self):\n",
    "            self.yFS = self.m.binary_var_dict(keys = FS, name = 'Facility Speciality Selection', lb = 0)\n",
    "            \n",
    "            self.xFSM = self.m.integer_var_dict(keys = FSM, name = 'Nurses to be Scheduled', lb = 0)\n",
    "                        \n",
    "            self.cFSM = self.m.integer_var_dict(keys = FSM, name = 'Contract Nurses to be Scheduled', lb = 0)\n",
    "            \n",
    "        def createObjective(self):\n",
    "            \n",
    "            self.m.minimize(self.m.sum(self.yFS[i,j] * (FacilityCapability[i][j]) for i in Facility for j in Specialty)\n",
    "                           + self.m.sum(self.xFSM[i,j,k] * (NursePay[i][j]) for i in Facility for j in Specialty for k in Month)\n",
    "                           + self.m.sum(self.cFSM[i,j,k] * (1.2 * NursePay[i][j]) for i in Facility for j in Specialty for k in Month))           \n",
    "            \n",
    "        def createConstraints(self):\n",
    "            # either south ridge OR east view offers pediatric surgery, not both\n",
    "            self.m.add_constraint(self.yFS[('South Ridge','Pediatric')] + self.yFS[('Eastview','Pediatric')] == 1)\n",
    "            \n",
    "            # if North Place offers orthopedic surgery, must be offered at South Ridge too  \n",
    "            self.m.add_constraint(self.yFS['North Place','Orthopedic'] <= self.yFS['South Ridge','Orthopedic'])\n",
    "            \n",
    "            # either Eastview or Westside must offer general surgery, possibly both\n",
    "            self.m.add_constraint(self.yFS['Westside','General'] + self.yFS['Eastview','General'] >= 1)\n",
    "\n",
    "            # number of nurses to staff at a facility in a specialty must be a minimum of 5\n",
    "            for i in Facility:\n",
    "                for j in Specialty:\n",
    "                    for k in Month:\n",
    "                        self.m.add_constraint(self.xFSM[i,j,k] >= 5*self.yFS[i,j])\n",
    "            \n",
    "            # do not staff nurses at facilities which are not open\n",
    "            # number of nurses to staff for a facility specialty must not exceed 65\n",
    "            for i in Facility:\n",
    "                for j in Specialty:\n",
    "                    for k in Month:\n",
    "                        self.m.add_constraint(self.xFSM[i,j,k] / 65 <= self.yFS[i,j])\n",
    "                        \n",
    "            # number of nurses to staff must meet projected demand\n",
    "            for j in Specialty:\n",
    "                for k in Month:\n",
    "                    self.m.add_constraint(self.m.sum(self.xFSM[i,j,k] + self.cFSM[i,j,k] for i in Facility) >= NurseDemand[j][k])\n",
    "            \n",
    "            # number of nurses to staff at a selected facility in a certain specialty must not deviate +- 20%\n",
    "            for i in Facility:\n",
    "                for j in Specialty:\n",
    "                    for k in range(len(Month)-1):\n",
    "                        self.m.add_constraint(self.xFSM[i,j,Month[k]] <= 1.2 * self.xFSM[i,j,Month[k+1]])\n",
    "                        self.m.add_constraint(self.xFSM[i,j,Month[k]] >= 0.8 * self.xFSM[i,j,Month[k+1]])     \n",
    "            \n",
    "        def solveModel(self):\n",
    "            self.m.solve()\n",
    "            print(self.m.report)\n",
    "            print(\"solve status =\",self.m.get_solve_status()) \n",
    "            print(self.m.solution)"
   ]
  },
  {
   "cell_type": "markdown",
   "metadata": {},
   "source": [
    "## Solution"
   ]
  },
  {
   "cell_type": "code",
   "execution_count": 4,
   "metadata": {
    "scrolled": false,
    "slideshow": {
     "slide_type": "notes"
    }
   },
   "outputs": [
    {
     "name": "stdout",
     "output_type": "stream",
     "text": [
      "<bound method Model.report of docplex.mp.Model['Staffing Reccomendation: Scenario 1']>\n",
      "solve status = JobSolveStatus.OPTIMAL_SOLUTION\n",
      "solution for: Staffing Reccomendation: Scenario 1\n",
      "objective: 1.38061e+07\n",
      "Facility Speciality Selection_Eastview_General=1\n",
      "Facility Speciality Selection_Eastview_Pediatric=1\n",
      "Facility Speciality Selection_North Place_Cardiac=1\n",
      "Facility Speciality Selection_North Place_Orthopedic=1\n",
      "Facility Speciality Selection_North Place_General=1\n",
      "Facility Speciality Selection_North Place_Pediatric=1\n",
      "Facility Speciality Selection_South Ridge_Orthopedic=1\n",
      "Facility Speciality Selection_South Ridge_General=1\n",
      "Nurses to be Scheduled_Eastview_General_January=5\n",
      "Nurses to be Scheduled_Eastview_General_February=6\n",
      "Nurses to be Scheduled_Eastview_General_March=5\n",
      "Nurses to be Scheduled_Eastview_General_April=5\n",
      "Nurses to be Scheduled_Eastview_General_May=6\n",
      "Nurses to be Scheduled_Eastview_General_June=7\n",
      "Nurses to be Scheduled_Eastview_General_July=6\n",
      "Nurses to be Scheduled_Eastview_General_August=5\n",
      "Nurses to be Scheduled_Eastview_General_September=5\n",
      "Nurses to be Scheduled_Eastview_General_October=5\n",
      "Nurses to be Scheduled_Eastview_General_November=5\n",
      "Nurses to be Scheduled_Eastview_General_December=5\n",
      "Nurses to be Scheduled_Eastview_Pediatric_January=5\n",
      "Nurses to be Scheduled_Eastview_Pediatric_February=6\n",
      "Nurses to be Scheduled_Eastview_Pediatric_March=7\n",
      "Nurses to be Scheduled_Eastview_Pediatric_April=6\n",
      "Nurses to be Scheduled_Eastview_Pediatric_May=5\n",
      "Nurses to be Scheduled_Eastview_Pediatric_June=5\n",
      "Nurses to be Scheduled_Eastview_Pediatric_July=6\n",
      "Nurses to be Scheduled_Eastview_Pediatric_August=5\n",
      "Nurses to be Scheduled_Eastview_Pediatric_September=5\n",
      "Nurses to be Scheduled_Eastview_Pediatric_October=6\n",
      "Nurses to be Scheduled_Eastview_Pediatric_November=6\n",
      "Nurses to be Scheduled_Eastview_Pediatric_December=5\n",
      "Nurses to be Scheduled_North Place_Cardiac_January=50\n",
      "Nurses to be Scheduled_North Place_Cardiac_February=48\n",
      "Nurses to be Scheduled_North Place_Cardiac_March=40\n",
      "Nurses to be Scheduled_North Place_Cardiac_April=36\n",
      "Nurses to be Scheduled_North Place_Cardiac_May=30\n",
      "Nurses to be Scheduled_North Place_Cardiac_June=37\n",
      "Nurses to be Scheduled_North Place_Cardiac_July=45\n",
      "Nurses to be Scheduled_North Place_Cardiac_August=42\n",
      "Nurses to be Scheduled_North Place_Cardiac_September=35\n",
      "Nurses to be Scheduled_North Place_Cardiac_October=36\n",
      "Nurses to be Scheduled_North Place_Cardiac_November=45\n",
      "Nurses to be Scheduled_North Place_Cardiac_December=44\n",
      "Nurses to be Scheduled_North Place_Orthopedic_January=58\n",
      "Nurses to be Scheduled_North Place_Orthopedic_February=57\n",
      "Nurses to be Scheduled_North Place_Orthopedic_March=50\n",
      "Nurses to be Scheduled_North Place_Orthopedic_April=45\n",
      "Nurses to be Scheduled_North Place_Orthopedic_May=43\n",
      "Nurses to be Scheduled_North Place_Orthopedic_June=50\n",
      "Nurses to be Scheduled_North Place_Orthopedic_July=55\n",
      "Nurses to be Scheduled_North Place_Orthopedic_August=60\n",
      "Nurses to be Scheduled_North Place_Orthopedic_September=65\n",
      "Nurses to be Scheduled_North Place_Orthopedic_October=65\n",
      "Nurses to be Scheduled_North Place_Orthopedic_November=58\n",
      "Nurses to be Scheduled_North Place_Orthopedic_December=60\n",
      "Nurses to be Scheduled_North Place_General_January=65\n",
      "Nurses to be Scheduled_North Place_General_February=65\n",
      "Nurses to be Scheduled_North Place_General_March=55\n",
      "Nurses to be Scheduled_North Place_General_April=50\n",
      "Nurses to be Scheduled_North Place_General_May=44\n",
      "Nurses to be Scheduled_North Place_General_June=43\n",
      "Nurses to be Scheduled_North Place_General_July=36\n",
      "Nurses to be Scheduled_North Place_General_August=30\n",
      "Nurses to be Scheduled_North Place_General_September=34\n",
      "Nurses to be Scheduled_North Place_General_October=39\n",
      "Nurses to be Scheduled_North Place_General_November=46\n",
      "Nurses to be Scheduled_North Place_General_December=50\n",
      "Nurses to be Scheduled_North Place_Pediatric_January=65\n",
      "Nurses to be Scheduled_North Place_Pediatric_February=65\n",
      "Nurses to be Scheduled_North Place_Pediatric_March=65\n",
      "Nurses to be Scheduled_North Place_Pediatric_April=65\n",
      "Nurses to be Scheduled_North Place_Pediatric_May=55\n",
      "Nurses to be Scheduled_North Place_Pediatric_June=62\n",
      "Nurses to be Scheduled_North Place_Pediatric_July=65\n",
      "Nurses to be Scheduled_North Place_Pediatric_August=63\n",
      "Nurses to be Scheduled_North Place_Pediatric_September=59\n",
      "Nurses to be Scheduled_North Place_Pediatric_October=57\n",
      "Nurses to be Scheduled_North Place_Pediatric_November=48\n",
      "Nurses to be Scheduled_North Place_Pediatric_December=40\n",
      "Nurses to be Scheduled_South Ridge_Orthopedic_January=5\n",
      "Nurses to be Scheduled_South Ridge_Orthopedic_February=5\n",
      "Nurses to be Scheduled_South Ridge_Orthopedic_March=5\n",
      "Nurses to be Scheduled_South Ridge_Orthopedic_April=5\n",
      "Nurses to be Scheduled_South Ridge_Orthopedic_May=5\n",
      "Nurses to be Scheduled_South Ridge_Orthopedic_June=5\n",
      "Nurses to be Scheduled_South Ridge_Orthopedic_July=5\n",
      "Nurses to be Scheduled_South Ridge_Orthopedic_August=5\n",
      "Nurses to be Scheduled_South Ridge_Orthopedic_September=6\n",
      "Nurses to be Scheduled_South Ridge_Orthopedic_October=6\n",
      "Nurses to be Scheduled_South Ridge_Orthopedic_November=5\n",
      "Nurses to be Scheduled_South Ridge_Orthopedic_December=5\n",
      "Nurses to be Scheduled_South Ridge_General_January=65\n",
      "Nurses to be Scheduled_South Ridge_General_February=65\n",
      "Nurses to be Scheduled_South Ridge_General_March=65\n",
      "Nurses to be Scheduled_South Ridge_General_April=65\n",
      "Nurses to be Scheduled_South Ridge_General_May=65\n",
      "Nurses to be Scheduled_South Ridge_General_June=64\n",
      "Nurses to be Scheduled_South Ridge_General_July=54\n",
      "Nurses to be Scheduled_South Ridge_General_August=45\n",
      "Nurses to be Scheduled_South Ridge_General_September=56\n",
      "Nurses to be Scheduled_South Ridge_General_October=65\n",
      "Nurses to be Scheduled_South Ridge_General_November=65\n",
      "Nurses to be Scheduled_South Ridge_General_December=65\n",
      "Contract Nurses to be Scheduled_North Place_Cardiac_February=10\n",
      "Contract Nurses to be Scheduled_North Place_Cardiac_April=6\n",
      "Contract Nurses to be Scheduled_North Place_Cardiac_August=4\n",
      "Contract Nurses to be Scheduled_North Place_Orthopedic_September=4\n",
      "Contract Nurses to be Scheduled_North Place_Orthopedic_October=9\n",
      "Contract Nurses to be Scheduled_North Place_Pediatric_February=14\n",
      "Contract Nurses to be Scheduled_North Place_Pediatric_March=3\n",
      "Contract Nurses to be Scheduled_North Place_Pediatric_April=9\n",
      "Contract Nurses to be Scheduled_North Place_Pediatric_July=7\n",
      "Contract Nurses to be Scheduled_North Place_Pediatric_October=7\n",
      "Contract Nurses to be Scheduled_North Place_Pediatric_November=6\n",
      "Contract Nurses to be Scheduled_South Ridge_General_February=19\n",
      "Contract Nurses to be Scheduled_South Ridge_General_June=6\n",
      "Contract Nurses to be Scheduled_South Ridge_General_July=4\n",
      "\n"
     ]
    }
   ],
   "source": [
    "solver = IPproblem()\n",
    "solver.createVariables()\n",
    "solver.createObjective()\n",
    "solver.createConstraints()\n",
    "solver.solveModel()"
   ]
  }
 ],
 "metadata": {
  "kernelspec": {
   "display_name": "Python 3",
   "language": "python",
   "name": "python3"
  },
  "language_info": {
   "codemirror_mode": {
    "name": "ipython",
    "version": 3
   },
   "file_extension": ".py",
   "mimetype": "text/x-python",
   "name": "python",
   "nbconvert_exporter": "python",
   "pygments_lexer": "ipython3",
   "version": "3.8.5"
  }
 },
 "nbformat": 4,
 "nbformat_minor": 4
}
